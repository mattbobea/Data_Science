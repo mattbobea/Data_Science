{
  "nbformat": 4,
  "nbformat_minor": 0,
  "metadata": {
    "colab": {
      "provenance": [],
      "include_colab_link": true
    },
    "kernelspec": {
      "name": "python3",
      "display_name": "Python 3"
    },
    "language_info": {
      "name": "python"
    }
  },
  "cells": [
    {
      "cell_type": "markdown",
      "metadata": {
        "id": "view-in-github",
        "colab_type": "text"
      },
      "source": [
        "<a href=\"https://colab.research.google.com/github/mattbobea/Data_Science/blob/main/Chapter_5B_LSTM.ipynb\" target=\"_parent\"><img src=\"https://colab.research.google.com/assets/colab-badge.svg\" alt=\"Open In Colab\"/></a>"
      ]
    },
    {
      "cell_type": "markdown",
      "source": [
        "# 01 Load Data\n",
        "\n",
        "URL: https://www.nasdaq.com/market-activity/stocks/tsla/historical"
      ],
      "metadata": {
        "id": "PJng7nbJAfdE"
      }
    },
    {
      "cell_type": "code",
      "execution_count": null,
      "metadata": {
        "id": "-X5NY5QohWyM",
        "colab": {
          "base_uri": "https://localhost:8080/",
          "height": 424
        },
        "outputId": "ed2f3922-f05a-4016-d7e9-7dbd2d458ec8"
      },
      "outputs": [
        {
          "output_type": "execute_result",
          "data": {
            "text/plain": [
              "          Date Close/Last     Volume       Open       High        Low  \\\n",
              "0   2022-12-12    $167.82  109794500     $176.1    $177.37    $167.52   \n",
              "1   2022-12-09    $179.05  104872300    $173.84     $182.5    $173.36   \n",
              "2   2022-12-08    $173.44   97624490     $172.2     $175.2    $169.06   \n",
              "3   2022-12-07    $174.04   84213280    $175.03    $179.38   $172.218   \n",
              "4   2022-12-06    $179.82   92150820   $181.215    $183.65    $175.33   \n",
              "..         ...        ...        ...        ...        ...        ...   \n",
              "122 2022-06-17    $216.76   92641779  $213.4333  $220.9694  $213.1966   \n",
              "123 2022-06-16     $213.1  107390711  $222.7366  $225.1666  $208.6933   \n",
              "124 2022-06-15       $233  119131962  $220.9166  $235.6633    $218.15   \n",
              "125 2022-06-14    $220.89   97988800  $218.2866    $226.33  $211.7366   \n",
              "126 2022-06-13  $215.7366  102767260  $223.1666  $226.6333  $214.6833   \n",
              "\n",
              "        Close  \n",
              "0    167.8200  \n",
              "1    179.0500  \n",
              "2    173.4400  \n",
              "3    174.0400  \n",
              "4    179.8200  \n",
              "..        ...  \n",
              "122  216.7600  \n",
              "123  213.1000  \n",
              "124  233.0000  \n",
              "125  220.8900  \n",
              "126  215.7366  \n",
              "\n",
              "[127 rows x 7 columns]"
            ],
            "text/html": [
              "\n",
              "  <div id=\"df-a5119b31-ca1b-4b01-bc6e-3fc74d0ea184\">\n",
              "    <div class=\"colab-df-container\">\n",
              "      <div>\n",
              "<style scoped>\n",
              "    .dataframe tbody tr th:only-of-type {\n",
              "        vertical-align: middle;\n",
              "    }\n",
              "\n",
              "    .dataframe tbody tr th {\n",
              "        vertical-align: top;\n",
              "    }\n",
              "\n",
              "    .dataframe thead th {\n",
              "        text-align: right;\n",
              "    }\n",
              "</style>\n",
              "<table border=\"1\" class=\"dataframe\">\n",
              "  <thead>\n",
              "    <tr style=\"text-align: right;\">\n",
              "      <th></th>\n",
              "      <th>Date</th>\n",
              "      <th>Close/Last</th>\n",
              "      <th>Volume</th>\n",
              "      <th>Open</th>\n",
              "      <th>High</th>\n",
              "      <th>Low</th>\n",
              "      <th>Close</th>\n",
              "    </tr>\n",
              "  </thead>\n",
              "  <tbody>\n",
              "    <tr>\n",
              "      <th>0</th>\n",
              "      <td>2022-12-12</td>\n",
              "      <td>$167.82</td>\n",
              "      <td>109794500</td>\n",
              "      <td>$176.1</td>\n",
              "      <td>$177.37</td>\n",
              "      <td>$167.52</td>\n",
              "      <td>167.8200</td>\n",
              "    </tr>\n",
              "    <tr>\n",
              "      <th>1</th>\n",
              "      <td>2022-12-09</td>\n",
              "      <td>$179.05</td>\n",
              "      <td>104872300</td>\n",
              "      <td>$173.84</td>\n",
              "      <td>$182.5</td>\n",
              "      <td>$173.36</td>\n",
              "      <td>179.0500</td>\n",
              "    </tr>\n",
              "    <tr>\n",
              "      <th>2</th>\n",
              "      <td>2022-12-08</td>\n",
              "      <td>$173.44</td>\n",
              "      <td>97624490</td>\n",
              "      <td>$172.2</td>\n",
              "      <td>$175.2</td>\n",
              "      <td>$169.06</td>\n",
              "      <td>173.4400</td>\n",
              "    </tr>\n",
              "    <tr>\n",
              "      <th>3</th>\n",
              "      <td>2022-12-07</td>\n",
              "      <td>$174.04</td>\n",
              "      <td>84213280</td>\n",
              "      <td>$175.03</td>\n",
              "      <td>$179.38</td>\n",
              "      <td>$172.218</td>\n",
              "      <td>174.0400</td>\n",
              "    </tr>\n",
              "    <tr>\n",
              "      <th>4</th>\n",
              "      <td>2022-12-06</td>\n",
              "      <td>$179.82</td>\n",
              "      <td>92150820</td>\n",
              "      <td>$181.215</td>\n",
              "      <td>$183.65</td>\n",
              "      <td>$175.33</td>\n",
              "      <td>179.8200</td>\n",
              "    </tr>\n",
              "    <tr>\n",
              "      <th>...</th>\n",
              "      <td>...</td>\n",
              "      <td>...</td>\n",
              "      <td>...</td>\n",
              "      <td>...</td>\n",
              "      <td>...</td>\n",
              "      <td>...</td>\n",
              "      <td>...</td>\n",
              "    </tr>\n",
              "    <tr>\n",
              "      <th>122</th>\n",
              "      <td>2022-06-17</td>\n",
              "      <td>$216.76</td>\n",
              "      <td>92641779</td>\n",
              "      <td>$213.4333</td>\n",
              "      <td>$220.9694</td>\n",
              "      <td>$213.1966</td>\n",
              "      <td>216.7600</td>\n",
              "    </tr>\n",
              "    <tr>\n",
              "      <th>123</th>\n",
              "      <td>2022-06-16</td>\n",
              "      <td>$213.1</td>\n",
              "      <td>107390711</td>\n",
              "      <td>$222.7366</td>\n",
              "      <td>$225.1666</td>\n",
              "      <td>$208.6933</td>\n",
              "      <td>213.1000</td>\n",
              "    </tr>\n",
              "    <tr>\n",
              "      <th>124</th>\n",
              "      <td>2022-06-15</td>\n",
              "      <td>$233</td>\n",
              "      <td>119131962</td>\n",
              "      <td>$220.9166</td>\n",
              "      <td>$235.6633</td>\n",
              "      <td>$218.15</td>\n",
              "      <td>233.0000</td>\n",
              "    </tr>\n",
              "    <tr>\n",
              "      <th>125</th>\n",
              "      <td>2022-06-14</td>\n",
              "      <td>$220.89</td>\n",
              "      <td>97988800</td>\n",
              "      <td>$218.2866</td>\n",
              "      <td>$226.33</td>\n",
              "      <td>$211.7366</td>\n",
              "      <td>220.8900</td>\n",
              "    </tr>\n",
              "    <tr>\n",
              "      <th>126</th>\n",
              "      <td>2022-06-13</td>\n",
              "      <td>$215.7366</td>\n",
              "      <td>102767260</td>\n",
              "      <td>$223.1666</td>\n",
              "      <td>$226.6333</td>\n",
              "      <td>$214.6833</td>\n",
              "      <td>215.7366</td>\n",
              "    </tr>\n",
              "  </tbody>\n",
              "</table>\n",
              "<p>127 rows × 7 columns</p>\n",
              "</div>\n",
              "      <button class=\"colab-df-convert\" onclick=\"convertToInteractive('df-a5119b31-ca1b-4b01-bc6e-3fc74d0ea184')\"\n",
              "              title=\"Convert this dataframe to an interactive table.\"\n",
              "              style=\"display:none;\">\n",
              "        \n",
              "  <svg xmlns=\"http://www.w3.org/2000/svg\" height=\"24px\"viewBox=\"0 0 24 24\"\n",
              "       width=\"24px\">\n",
              "    <path d=\"M0 0h24v24H0V0z\" fill=\"none\"/>\n",
              "    <path d=\"M18.56 5.44l.94 2.06.94-2.06 2.06-.94-2.06-.94-.94-2.06-.94 2.06-2.06.94zm-11 1L8.5 8.5l.94-2.06 2.06-.94-2.06-.94L8.5 2.5l-.94 2.06-2.06.94zm10 10l.94 2.06.94-2.06 2.06-.94-2.06-.94-.94-2.06-.94 2.06-2.06.94z\"/><path d=\"M17.41 7.96l-1.37-1.37c-.4-.4-.92-.59-1.43-.59-.52 0-1.04.2-1.43.59L10.3 9.45l-7.72 7.72c-.78.78-.78 2.05 0 2.83L4 21.41c.39.39.9.59 1.41.59.51 0 1.02-.2 1.41-.59l7.78-7.78 2.81-2.81c.8-.78.8-2.07 0-2.86zM5.41 20L4 18.59l7.72-7.72 1.47 1.35L5.41 20z\"/>\n",
              "  </svg>\n",
              "      </button>\n",
              "      \n",
              "  <style>\n",
              "    .colab-df-container {\n",
              "      display:flex;\n",
              "      flex-wrap:wrap;\n",
              "      gap: 12px;\n",
              "    }\n",
              "\n",
              "    .colab-df-convert {\n",
              "      background-color: #E8F0FE;\n",
              "      border: none;\n",
              "      border-radius: 50%;\n",
              "      cursor: pointer;\n",
              "      display: none;\n",
              "      fill: #1967D2;\n",
              "      height: 32px;\n",
              "      padding: 0 0 0 0;\n",
              "      width: 32px;\n",
              "    }\n",
              "\n",
              "    .colab-df-convert:hover {\n",
              "      background-color: #E2EBFA;\n",
              "      box-shadow: 0px 1px 2px rgba(60, 64, 67, 0.3), 0px 1px 3px 1px rgba(60, 64, 67, 0.15);\n",
              "      fill: #174EA6;\n",
              "    }\n",
              "\n",
              "    [theme=dark] .colab-df-convert {\n",
              "      background-color: #3B4455;\n",
              "      fill: #D2E3FC;\n",
              "    }\n",
              "\n",
              "    [theme=dark] .colab-df-convert:hover {\n",
              "      background-color: #434B5C;\n",
              "      box-shadow: 0px 1px 3px 1px rgba(0, 0, 0, 0.15);\n",
              "      filter: drop-shadow(0px 1px 2px rgba(0, 0, 0, 0.3));\n",
              "      fill: #FFFFFF;\n",
              "    }\n",
              "  </style>\n",
              "\n",
              "      <script>\n",
              "        const buttonEl =\n",
              "          document.querySelector('#df-a5119b31-ca1b-4b01-bc6e-3fc74d0ea184 button.colab-df-convert');\n",
              "        buttonEl.style.display =\n",
              "          google.colab.kernel.accessAllowed ? 'block' : 'none';\n",
              "\n",
              "        async function convertToInteractive(key) {\n",
              "          const element = document.querySelector('#df-a5119b31-ca1b-4b01-bc6e-3fc74d0ea184');\n",
              "          const dataTable =\n",
              "            await google.colab.kernel.invokeFunction('convertToInteractive',\n",
              "                                                     [key], {});\n",
              "          if (!dataTable) return;\n",
              "\n",
              "          const docLinkHtml = 'Like what you see? Visit the ' +\n",
              "            '<a target=\"_blank\" href=https://colab.research.google.com/notebooks/data_table.ipynb>data table notebook</a>'\n",
              "            + ' to learn more about interactive tables.';\n",
              "          element.innerHTML = '';\n",
              "          dataTable['output_type'] = 'display_data';\n",
              "          await google.colab.output.renderOutput(dataTable, element);\n",
              "          const docLink = document.createElement('div');\n",
              "          docLink.innerHTML = docLinkHtml;\n",
              "          element.appendChild(docLink);\n",
              "        }\n",
              "      </script>\n",
              "    </div>\n",
              "  </div>\n",
              "  "
            ]
          },
          "metadata": {},
          "execution_count": 1
        }
      ],
      "source": [
        "import pandas as pd\n",
        "\n",
        "tesla_pd = pd.read_csv('HistoricalData_1670900145960.csv')\n",
        "tesla_pd['Date'] =  pd.to_datetime(tesla_pd['Date'], format='%m/%d/%Y')\n",
        "tesla_pd['Close'] = tesla_pd['Close/Last'].str.split('$', expand=True)[1].astype('float')\n",
        "tesla_pd"
      ]
    },
    {
      "cell_type": "code",
      "source": [
        "def load_data(df, start, end):\n",
        "    dataframe = df.copy()\n",
        "    dataframe = dataframe.loc[(dataframe['Date'] > start) & (dataframe['Date'] < end), :]\n",
        "    return dataframe"
      ],
      "metadata": {
        "id": "OWYCahB9wsTP"
      },
      "execution_count": null,
      "outputs": []
    },
    {
      "cell_type": "markdown",
      "source": [
        "# 02 Split training window"
      ],
      "metadata": {
        "id": "KkhLuwgPAmFm"
      }
    },
    {
      "cell_type": "code",
      "source": [
        "import datetime\n",
        "\n",
        "START_DATE = datetime.datetime(2022,6,1)\n",
        "END_DATE = datetime.datetime(2022,8,31)\n",
        "\n",
        "START_DATE_TEST = END_DATE"
      ],
      "metadata": {
        "id": "sjsTKBo2wsZx"
      },
      "execution_count": null,
      "outputs": []
    },
    {
      "cell_type": "code",
      "source": [
        "train_data = load_data(tesla_pd,\n",
        "                       start = START_DATE,\n",
        "                       end = END_DATE)"
      ],
      "metadata": {
        "id": "yOoxkR5-wscF"
      },
      "execution_count": null,
      "outputs": []
    },
    {
      "cell_type": "code",
      "source": [
        "from sklearn.preprocessing import MinMaxScaler\n",
        "\n",
        "scaler = MinMaxScaler(feature_range=(0,1))"
      ],
      "metadata": {
        "id": "2Z_Scp1UjGAo"
      },
      "execution_count": null,
      "outputs": []
    },
    {
      "cell_type": "code",
      "source": [
        "scaled_data = scaler.fit_transform(train_data['Close'].values.reshape(-1,1))"
      ],
      "metadata": {
        "id": "wy2YH6Yc1BEQ"
      },
      "execution_count": null,
      "outputs": []
    },
    {
      "cell_type": "code",
      "source": [
        "import numpy as np\n",
        "\n",
        "prediction_days = 10\n",
        "\n",
        "x_train = []\n",
        "y_train = []\n",
        "\n",
        "for x in range(prediction_days, len(scaled_data)):\n",
        "    # print(x)\n",
        "    x_train.append(scaled_data[x - prediction_days:x, 0])\n",
        "    y_train.append(scaled_data[x, 0])\n",
        "    \n",
        "x_train, y_train = np.array(x_train), np.array(y_train)\n",
        "x_train = np.reshape(x_train, (x_train.shape[0], x_train.shape[1], 1))"
      ],
      "metadata": {
        "id": "f83V-JHJivxa"
      },
      "execution_count": null,
      "outputs": []
    },
    {
      "cell_type": "markdown",
      "source": [
        "# 03 Build model and train model"
      ],
      "metadata": {
        "id": "TvpBqqevAtoY"
      }
    },
    {
      "cell_type": "code",
      "source": [
        "from tensorflow.keras.models import Sequential\n",
        "from tensorflow.keras.layers import Dense, Dropout, LSTM\n",
        "from tensorflow.keras.callbacks import ModelCheckpoint, EarlyStopping\n",
        "\n",
        "def LSTM_model():\n",
        "    \n",
        "    model = Sequential()\n",
        "    \n",
        "    model.add(LSTM(units = 50, return_sequences = True, input_shape = (x_train.shape[1],1)))\n",
        "    model.add(Dropout(0.2))\n",
        "\n",
        "    model.add(LSTM(units = 50, return_sequences = True))\n",
        "    model.add(Dropout(0.2))\n",
        "\n",
        "    model.add(LSTM(units = 50))\n",
        "    model.add(Dropout(0.2))\n",
        "    \n",
        "    model.add(Dense(units=1))\n",
        "    \n",
        "    return model"
      ],
      "metadata": {
        "id": "GVZtGO5TjJI7"
      },
      "execution_count": null,
      "outputs": []
    },
    {
      "cell_type": "code",
      "source": [
        "model = LSTM_model()\n",
        "model.summary()\n",
        "model.compile(optimizer='adam', \n",
        "              loss='mean_squared_error')"
      ],
      "metadata": {
        "colab": {
          "base_uri": "https://localhost:8080/"
        },
        "id": "7-pftkUDk8iE",
        "outputId": "65b89598-ef9a-4eb3-8472-30058b3dc085"
      },
      "execution_count": null,
      "outputs": [
        {
          "output_type": "stream",
          "name": "stdout",
          "text": [
            "Model: \"sequential\"\n",
            "_________________________________________________________________\n",
            " Layer (type)                Output Shape              Param #   \n",
            "=================================================================\n",
            " lstm (LSTM)                 (None, 10, 50)            10400     \n",
            "                                                                 \n",
            " dropout (Dropout)           (None, 10, 50)            0         \n",
            "                                                                 \n",
            " lstm_1 (LSTM)               (None, 10, 50)            20200     \n",
            "                                                                 \n",
            " dropout_1 (Dropout)         (None, 10, 50)            0         \n",
            "                                                                 \n",
            " lstm_2 (LSTM)               (None, 50)                20200     \n",
            "                                                                 \n",
            " dropout_2 (Dropout)         (None, 50)                0         \n",
            "                                                                 \n",
            " dense (Dense)               (None, 1)                 51        \n",
            "                                                                 \n",
            "=================================================================\n",
            "Total params: 50,851\n",
            "Trainable params: 50,851\n",
            "Non-trainable params: 0\n",
            "_________________________________________________________________\n"
          ]
        }
      ]
    },
    {
      "cell_type": "code",
      "source": [
        "model.fit(x_train, \n",
        "          y_train, \n",
        "          epochs=10, \n",
        "          batch_size = 32)"
      ],
      "metadata": {
        "colab": {
          "base_uri": "https://localhost:8080/"
        },
        "id": "3X3DvZCMk-Yb",
        "outputId": "cde9b48e-1280-4f04-bf96-ae698fe56c53"
      },
      "execution_count": null,
      "outputs": [
        {
          "output_type": "stream",
          "name": "stdout",
          "text": [
            "Epoch 1/10\n",
            "2/2 [==============================] - 12s 36ms/step - loss: 0.3367\n",
            "Epoch 2/10\n",
            "2/2 [==============================] - 0s 45ms/step - loss: 0.2655\n",
            "Epoch 3/10\n",
            "2/2 [==============================] - 0s 38ms/step - loss: 0.2005\n",
            "Epoch 4/10\n",
            "2/2 [==============================] - 0s 40ms/step - loss: 0.1381\n",
            "Epoch 5/10\n",
            "2/2 [==============================] - 0s 57ms/step - loss: 0.0759\n",
            "Epoch 6/10\n",
            "2/2 [==============================] - 0s 39ms/step - loss: 0.0490\n",
            "Epoch 7/10\n",
            "2/2 [==============================] - 0s 33ms/step - loss: 0.0452\n",
            "Epoch 8/10\n",
            "2/2 [==============================] - 0s 28ms/step - loss: 0.0771\n",
            "Epoch 9/10\n",
            "2/2 [==============================] - 0s 29ms/step - loss: 0.0556\n",
            "Epoch 10/10\n",
            "2/2 [==============================] - 0s 30ms/step - loss: 0.0439\n"
          ]
        },
        {
          "output_type": "execute_result",
          "data": {
            "text/plain": [
              "<keras.callbacks.History at 0x7fb3c7801040>"
            ]
          },
          "metadata": {},
          "execution_count": 10
        }
      ]
    },
    {
      "cell_type": "code",
      "source": [],
      "metadata": {
        "id": "Chey_VLgAzgH"
      },
      "execution_count": null,
      "outputs": []
    },
    {
      "cell_type": "markdown",
      "source": [
        "# 04 Testing"
      ],
      "metadata": {
        "id": "g6vWGIg6A1lK"
      }
    },
    {
      "cell_type": "code",
      "source": [
        "test_data = load_data(tesla_pd,\n",
        "                      start = START_DATE_TEST,\n",
        "                      end = datetime.datetime.now())"
      ],
      "metadata": {
        "id": "drNmyoeGx2LB"
      },
      "execution_count": null,
      "outputs": []
    },
    {
      "cell_type": "code",
      "source": [
        "actual_prices = test_data['Close'].values"
      ],
      "metadata": {
        "id": "uLHDwq0tyNSK"
      },
      "execution_count": null,
      "outputs": []
    },
    {
      "cell_type": "code",
      "source": [
        "test_input  = scaler.transform(test_data['Close'].values.reshape(-1,1))"
      ],
      "metadata": {
        "id": "0QpmX6YIzbpm"
      },
      "execution_count": null,
      "outputs": []
    },
    {
      "cell_type": "code",
      "source": [
        "prediction_days"
      ],
      "metadata": {
        "colab": {
          "base_uri": "https://localhost:8080/"
        },
        "id": "pvV-Sni2zbsJ",
        "outputId": "fe18129e-4749-4fff-f377-97d86f816ac8"
      },
      "execution_count": null,
      "outputs": [
        {
          "output_type": "execute_result",
          "data": {
            "text/plain": [
              "10"
            ]
          },
          "metadata": {},
          "execution_count": 14
        }
      ]
    },
    {
      "cell_type": "code",
      "source": [
        "x_test = []\n",
        "for x in range(prediction_days, len(test_input)):\n",
        "    x_test.append(test_input[x-prediction_days:x, 0])\n",
        "\n",
        "x_test = np.array(x_test)\n",
        "x_test = np.reshape(x_test, (x_test.shape[0], x_test.shape[1] ,1))\n"
      ],
      "metadata": {
        "id": "WwFzDNkAlJ9v"
      },
      "execution_count": null,
      "outputs": []
    },
    {
      "cell_type": "code",
      "source": [
        "predicted_prices = model.predict(x_test)\n",
        "predicted_prices = scaler.inverse_transform(predicted_prices)"
      ],
      "metadata": {
        "colab": {
          "base_uri": "https://localhost:8080/"
        },
        "id": "GrWUBgqhlfdB",
        "outputId": "91785d54-3cdc-4e72-cf04-8134da414098"
      },
      "execution_count": null,
      "outputs": [
        {
          "output_type": "stream",
          "name": "stdout",
          "text": [
            "2/2 [==============================] - 3s 24ms/step\n"
          ]
        }
      ]
    },
    {
      "cell_type": "code",
      "source": [
        "import matplotlib.pyplot as plt\n",
        "\n",
        "fig, ax = plt.subplots(figsize=(15, 3))\n",
        "plt.plot(train_data['Date'], train_data['Close'], color='red', label=f\"TESLA price for training\")\n",
        "plt.plot(test_data['Date'], test_data['Close'], color='black', label=f\"TESLA price for testing\")\n",
        "plt.plot(test_data.head(predicted_prices.shape[0])['Date'], \n",
        "         predicted_prices, \n",
        "         color= 'green', \n",
        "         label=f\"TESLA price from LSTM model\",\n",
        "         marker='.')\n",
        "plt.title(f\"TESLA share price\")\n",
        "plt.xlabel(\"time\")\n",
        "plt.ylabel(f\"TESLA share price\")\n",
        "plt.legend()\n",
        "plt.show()"
      ],
      "metadata": {
        "colab": {
          "base_uri": "https://localhost:8080/",
          "height": 241
        },
        "id": "J-pXQtWLlueS",
        "outputId": "738ea583-453f-445b-9187-7855354c0ca8"
      },
      "execution_count": null,
      "outputs": [
        {
          "output_type": "display_data",
          "data": {
            "text/plain": [
              "<Figure size 1080x216 with 1 Axes>"
            ],
            "image/png": "[encoded data removed]"
          },
          "metadata": {
            "needs_background": "light"
          }
        }
      ]
    },
    {
      "cell_type": "code",
      "source": [
        "# what is the LSTM and ARIMA's RMSE?"
      ],
      "metadata": {
        "id": "3CT1vaqtR73d"
      },
      "execution_count": null,
      "outputs": []
    },
    {
      "cell_type": "code",
      "source": [],
      "metadata": {
        "id": "RaBPv4vRAc2o"
      },
      "execution_count": null,
      "outputs": []
    }
  ]
}